{
 "cells": [
  {
   "cell_type": "code",
   "execution_count": 1,
   "id": "f645e15f-40ac-4ca1-b953-24a4efcb1670",
   "metadata": {},
   "outputs": [],
   "source": [
    "import os\n",
    "import numpy as np\n",
    "import pandas as pd\n",
    "import torch\n",
    "from tqdm import tqdm"
   ]
  },
  {
   "cell_type": "code",
   "execution_count": 2,
   "id": "2315e04b-1c40-4a7c-83d5-e9b610ddebd8",
   "metadata": {},
   "outputs": [],
   "source": [
    "from src.tabpfn.model.causalFM4FD import PerFeatureTransformerCATE\n",
    "from DATA_FD.causaldatasettestFD import create_test_data_loader"
   ]
  },
  {
   "cell_type": "code",
   "execution_count": 3,
   "id": "90d0d335-fe47-4589-94c9-fdc5ef4925b2",
   "metadata": {},
   "outputs": [],
   "source": [
    "@torch.no_grad()\n",
    "def eval_one_csv(model, device, csv_path, batch_size=1):\n",
    "    \"\"\"\n",
    "    Evaluate on a single dataset.\n",
    "    - Uses 80% as the training data and 20% as the test data for one dataset.\n",
    "    \"\"\"\n",
    "    name = os.path.splitext(os.path.basename(csv_path))[0]\n",
    "    loader = create_test_data_loader(csv_path, batch_size=batch_size, shuffle=False)\n",
    "\n",
    "    se_list = []\n",
    "    nsamples = 0\n",
    "\n",
    "    for batch in loader: # one batch is one CSV file (load all the samples)\n",
    "        x = batch['X'].to(device)\n",
    "        a = batch['a'].to(device)\n",
    "        y = batch['y'].to(device)\n",
    "        m = batch['m'].to(device)  # factual\n",
    "        ite = batch['ite'].to(device)  # ground-truth ITE\n",
    "\n",
    "        # train test split \n",
    "        ratio = 0.8\n",
    "        train_text_split = int(y.shape[0] * ratio)\n",
    "\n",
    "        # Split data into train and test\n",
    "        x_train = x[:train_text_split].squeeze(1)\n",
    "        a_train = a[:train_text_split].squeeze(1)\n",
    "        y_train = y[:train_text_split].squeeze(1)\n",
    "        m_train = m[:train_text_split].squeeze(1)\n",
    "\n",
    "        x_test = x[train_text_split:].squeeze(1)\n",
    "        ite_test = ite[train_text_split:].squeeze()\n",
    "        \n",
    "        # print(f\"Train samples: {train_text_split}, Test samples: {ite_test.shape[0]}\")\n",
    "        # print(\"ite_test.shape:\", ite_test.shape)\n",
    "        \n",
    "        # Get model predictions using estimate_cate_fd method\n",
    "        out = model.estimate_cate_fd(x_train, a_train, y_train, m_train, x_test)\n",
    "        cate_test = out['cate']\n",
    "\n",
    "        # Calculate error\n",
    "        se = (cate_test - ite_test) ** 2\n",
    "        se_list.append(se.cpu().numpy())\n",
    "        nsamples += cate_test.numel()\n",
    "\n",
    "    if nsamples == 0:\n",
    "        return {'dataset': name, 'samples': 0, 'mse': np.nan, 'pehe': np.nan}\n",
    "\n",
    "    se_all = np.concatenate(se_list)\n",
    "    mse = float(np.mean(se_all))\n",
    "    pehe = float(np.sqrt(mse))\n",
    "    return {'dataset': name, 'samples': nsamples, 'mse': mse, 'pehe': pehe}\n"
   ]
  },
  {
   "cell_type": "code",
   "execution_count": 4,
   "id": "8fc0efed-d31b-400b-ba8f-570ece6cdfc4",
   "metadata": {},
   "outputs": [],
   "source": [
    "data_dir = \"DATA_FD/frontdoor_TEST\"\n",
    "data_prefix = \"frontdoor_test_dataset_\"\n",
    "num_datasets = 10\n",
    "model_path = 'checkpoints_FD/best_model.pth'\n",
    "batch_size = 1\n",
    "gpu = 0\n",
    "output_dir = 'test_results'\n",
    "\n",
    "# Create output directory\n",
    "os.makedirs(output_dir, exist_ok=True)"
   ]
  },
  {
   "cell_type": "code",
   "execution_count": 5,
   "id": "4251d495-63b0-4cff-9cf5-a0f4a5c44d35",
   "metadata": {},
   "outputs": [
    {
     "name": "stdout",
     "output_type": "stream",
     "text": [
      "Model loaded successfully!\n"
     ]
    }
   ],
   "source": [
    "# Device\n",
    "device = torch.device(f'cuda:{gpu}' if torch.cuda.is_available() and gpu >= 0 else 'cpu')\n",
    "# print(f\"Using device: {device}\")\n",
    "\n",
    "# Model\n",
    "model = PerFeatureTransformerCATE().to(device)\n",
    "if not os.path.exists(model_path):\n",
    "    raise FileNotFoundError(f\"Model checkpoint not found: {model_path}\")\n",
    "\n",
    "ckpt = torch.load(model_path, map_location=device)\n",
    "state = ckpt['model_state_dict'] if 'model_state_dict' in ckpt else ckpt\n",
    "model.load_state_dict(state)\n",
    "model.eval()\n",
    "print(\"Model loaded successfully!\")"
   ]
  },
  {
   "cell_type": "code",
   "execution_count": 6,
   "id": "bb408100-5ba4-4cb5-bb81-2805908db409",
   "metadata": {},
   "outputs": [
    {
     "name": "stdout",
     "output_type": "stream",
     "text": [
      "\n",
      "=== Per-dataset Test PEHE ===\n"
     ]
    },
    {
     "name": "stderr",
     "output_type": "stream",
     "text": [
      "Datasets:   0%|                                          | 0/10 [00:00<?, ?it/s]"
     ]
    },
    {
     "name": "stdout",
     "output_type": "stream",
     "text": [
      "Found 1 test CSV files to load:\n",
      "  - DATA_FD/frontdoor_TEST/frontdoor_test_dataset_1.csv\n",
      "Loaded 1024 rows from DATA_FD/frontdoor_TEST/frontdoor_test_dataset_1.csv\n",
      "Total number of test sequences (CSV files): 1\n",
      "Each test sequence length: 1024\n"
     ]
    },
    {
     "name": "stderr",
     "output_type": "stream",
     "text": [
      "Datasets:  10%|███▍                              | 1/10 [00:03<00:27,  3.04s/it]"
     ]
    },
    {
     "name": "stdout",
     "output_type": "stream",
     "text": [
      "frontdoor_test_dataset_1: PEHE=0.7358  (MSE=0.541353, samples=205)\n",
      "Found 1 test CSV files to load:\n",
      "  - DATA_FD/frontdoor_TEST/frontdoor_test_dataset_2.csv\n",
      "Loaded 1024 rows from DATA_FD/frontdoor_TEST/frontdoor_test_dataset_2.csv\n",
      "Total number of test sequences (CSV files): 1\n",
      "Each test sequence length: 1024\n"
     ]
    },
    {
     "name": "stderr",
     "output_type": "stream",
     "text": [
      "Datasets:  20%|██████▊                           | 2/10 [00:05<00:21,  2.70s/it]"
     ]
    },
    {
     "name": "stdout",
     "output_type": "stream",
     "text": [
      "frontdoor_test_dataset_2: PEHE=0.6783  (MSE=0.460074, samples=205)\n",
      "Found 1 test CSV files to load:\n",
      "  - DATA_FD/frontdoor_TEST/frontdoor_test_dataset_3.csv\n",
      "Loaded 1024 rows from DATA_FD/frontdoor_TEST/frontdoor_test_dataset_3.csv\n",
      "Total number of test sequences (CSV files): 1\n",
      "Each test sequence length: 1024\n"
     ]
    },
    {
     "name": "stderr",
     "output_type": "stream",
     "text": [
      "Datasets:  30%|██████████▏                       | 3/10 [00:07<00:17,  2.55s/it]"
     ]
    },
    {
     "name": "stdout",
     "output_type": "stream",
     "text": [
      "frontdoor_test_dataset_3: PEHE=1.5413  (MSE=2.375613, samples=205)\n",
      "Found 1 test CSV files to load:\n",
      "  - DATA_FD/frontdoor_TEST/frontdoor_test_dataset_4.csv\n",
      "Loaded 1024 rows from DATA_FD/frontdoor_TEST/frontdoor_test_dataset_4.csv\n",
      "Total number of test sequences (CSV files): 1\n",
      "Each test sequence length: 1024\n"
     ]
    },
    {
     "name": "stderr",
     "output_type": "stream",
     "text": [
      "Datasets:  40%|█████████████▌                    | 4/10 [00:10<00:14,  2.50s/it]"
     ]
    },
    {
     "name": "stdout",
     "output_type": "stream",
     "text": [
      "frontdoor_test_dataset_4: PEHE=1.0376  (MSE=1.076561, samples=205)\n",
      "Found 1 test CSV files to load:\n",
      "  - DATA_FD/frontdoor_TEST/frontdoor_test_dataset_5.csv\n",
      "Loaded 1024 rows from DATA_FD/frontdoor_TEST/frontdoor_test_dataset_5.csv\n",
      "Total number of test sequences (CSV files): 1\n",
      "Each test sequence length: 1024\n"
     ]
    },
    {
     "name": "stderr",
     "output_type": "stream",
     "text": [
      "Datasets:  50%|█████████████████                 | 5/10 [00:12<00:12,  2.54s/it]"
     ]
    },
    {
     "name": "stdout",
     "output_type": "stream",
     "text": [
      "frontdoor_test_dataset_5: PEHE=0.3033  (MSE=0.091996, samples=205)\n",
      "Found 1 test CSV files to load:\n",
      "  - DATA_FD/frontdoor_TEST/frontdoor_test_dataset_6.csv\n",
      "Loaded 1024 rows from DATA_FD/frontdoor_TEST/frontdoor_test_dataset_6.csv\n",
      "Total number of test sequences (CSV files): 1\n",
      "Each test sequence length: 1024\n"
     ]
    },
    {
     "name": "stderr",
     "output_type": "stream",
     "text": [
      "Datasets:  60%|████████████████████▍             | 6/10 [00:15<00:10,  2.51s/it]"
     ]
    },
    {
     "name": "stdout",
     "output_type": "stream",
     "text": [
      "frontdoor_test_dataset_6: PEHE=0.7274  (MSE=0.529088, samples=205)\n",
      "Found 1 test CSV files to load:\n",
      "  - DATA_FD/frontdoor_TEST/frontdoor_test_dataset_7.csv\n",
      "Loaded 1024 rows from DATA_FD/frontdoor_TEST/frontdoor_test_dataset_7.csv\n",
      "Total number of test sequences (CSV files): 1\n",
      "Each test sequence length: 1024\n"
     ]
    },
    {
     "name": "stderr",
     "output_type": "stream",
     "text": [
      "Datasets:  70%|███████████████████████▊          | 7/10 [00:17<00:07,  2.47s/it]"
     ]
    },
    {
     "name": "stdout",
     "output_type": "stream",
     "text": [
      "frontdoor_test_dataset_7: PEHE=0.9460  (MSE=0.894842, samples=205)\n",
      "Found 1 test CSV files to load:\n",
      "  - DATA_FD/frontdoor_TEST/frontdoor_test_dataset_8.csv\n",
      "Loaded 1024 rows from DATA_FD/frontdoor_TEST/frontdoor_test_dataset_8.csv\n",
      "Total number of test sequences (CSV files): 1\n",
      "Each test sequence length: 1024\n"
     ]
    },
    {
     "name": "stderr",
     "output_type": "stream",
     "text": [
      "Datasets:  80%|███████████████████████████▏      | 8/10 [00:20<00:04,  2.45s/it]"
     ]
    },
    {
     "name": "stdout",
     "output_type": "stream",
     "text": [
      "frontdoor_test_dataset_8: PEHE=0.9471  (MSE=0.897036, samples=205)\n",
      "Found 1 test CSV files to load:\n",
      "  - DATA_FD/frontdoor_TEST/frontdoor_test_dataset_9.csv\n",
      "Loaded 1024 rows from DATA_FD/frontdoor_TEST/frontdoor_test_dataset_9.csv\n",
      "Total number of test sequences (CSV files): 1\n",
      "Each test sequence length: 1024\n"
     ]
    },
    {
     "name": "stderr",
     "output_type": "stream",
     "text": [
      "Datasets:  90%|██████████████████████████████▌   | 9/10 [00:22<00:02,  2.46s/it]"
     ]
    },
    {
     "name": "stdout",
     "output_type": "stream",
     "text": [
      "frontdoor_test_dataset_9: PEHE=1.1463  (MSE=1.314030, samples=205)\n",
      "Found 1 test CSV files to load:\n",
      "  - DATA_FD/frontdoor_TEST/frontdoor_test_dataset_10.csv\n",
      "Loaded 1024 rows from DATA_FD/frontdoor_TEST/frontdoor_test_dataset_10.csv\n",
      "Total number of test sequences (CSV files): 1\n",
      "Each test sequence length: 1024\n"
     ]
    },
    {
     "name": "stderr",
     "output_type": "stream",
     "text": [
      "Datasets: 100%|█████████████████████████████████| 10/10 [00:25<00:00,  2.50s/it]"
     ]
    },
    {
     "name": "stdout",
     "output_type": "stream",
     "text": [
      "frontdoor_test_dataset_10: PEHE=0.4032  (MSE=0.162564, samples=205)\n"
     ]
    },
    {
     "name": "stderr",
     "output_type": "stream",
     "text": [
      "\n"
     ]
    },
    {
     "data": {
      "text/html": [
       "<div>\n",
       "<style scoped>\n",
       "    .dataframe tbody tr th:only-of-type {\n",
       "        vertical-align: middle;\n",
       "    }\n",
       "\n",
       "    .dataframe tbody tr th {\n",
       "        vertical-align: top;\n",
       "    }\n",
       "\n",
       "    .dataframe thead th {\n",
       "        text-align: right;\n",
       "    }\n",
       "</style>\n",
       "<table border=\"1\" class=\"dataframe\">\n",
       "  <thead>\n",
       "    <tr style=\"text-align: right;\">\n",
       "      <th></th>\n",
       "      <th>dataset</th>\n",
       "      <th>samples</th>\n",
       "      <th>mse</th>\n",
       "      <th>pehe</th>\n",
       "    </tr>\n",
       "  </thead>\n",
       "  <tbody>\n",
       "    <tr>\n",
       "      <th>0</th>\n",
       "      <td>frontdoor_test_dataset_1</td>\n",
       "      <td>205</td>\n",
       "      <td>0.541353</td>\n",
       "      <td>0.735767</td>\n",
       "    </tr>\n",
       "    <tr>\n",
       "      <th>9</th>\n",
       "      <td>frontdoor_test_dataset_10</td>\n",
       "      <td>205</td>\n",
       "      <td>0.162564</td>\n",
       "      <td>0.403192</td>\n",
       "    </tr>\n",
       "    <tr>\n",
       "      <th>1</th>\n",
       "      <td>frontdoor_test_dataset_2</td>\n",
       "      <td>205</td>\n",
       "      <td>0.460074</td>\n",
       "      <td>0.678287</td>\n",
       "    </tr>\n",
       "    <tr>\n",
       "      <th>2</th>\n",
       "      <td>frontdoor_test_dataset_3</td>\n",
       "      <td>205</td>\n",
       "      <td>2.375613</td>\n",
       "      <td>1.541302</td>\n",
       "    </tr>\n",
       "    <tr>\n",
       "      <th>3</th>\n",
       "      <td>frontdoor_test_dataset_4</td>\n",
       "      <td>205</td>\n",
       "      <td>1.076561</td>\n",
       "      <td>1.037574</td>\n",
       "    </tr>\n",
       "    <tr>\n",
       "      <th>4</th>\n",
       "      <td>frontdoor_test_dataset_5</td>\n",
       "      <td>205</td>\n",
       "      <td>0.091996</td>\n",
       "      <td>0.303309</td>\n",
       "    </tr>\n",
       "    <tr>\n",
       "      <th>5</th>\n",
       "      <td>frontdoor_test_dataset_6</td>\n",
       "      <td>205</td>\n",
       "      <td>0.529088</td>\n",
       "      <td>0.727384</td>\n",
       "    </tr>\n",
       "    <tr>\n",
       "      <th>6</th>\n",
       "      <td>frontdoor_test_dataset_7</td>\n",
       "      <td>205</td>\n",
       "      <td>0.894842</td>\n",
       "      <td>0.945961</td>\n",
       "    </tr>\n",
       "    <tr>\n",
       "      <th>7</th>\n",
       "      <td>frontdoor_test_dataset_8</td>\n",
       "      <td>205</td>\n",
       "      <td>0.897036</td>\n",
       "      <td>0.947120</td>\n",
       "    </tr>\n",
       "    <tr>\n",
       "      <th>8</th>\n",
       "      <td>frontdoor_test_dataset_9</td>\n",
       "      <td>205</td>\n",
       "      <td>1.314030</td>\n",
       "      <td>1.146311</td>\n",
       "    </tr>\n",
       "  </tbody>\n",
       "</table>\n",
       "</div>"
      ],
      "text/plain": [
       "                     dataset  samples       mse      pehe\n",
       "0   frontdoor_test_dataset_1      205  0.541353  0.735767\n",
       "9  frontdoor_test_dataset_10      205  0.162564  0.403192\n",
       "1   frontdoor_test_dataset_2      205  0.460074  0.678287\n",
       "2   frontdoor_test_dataset_3      205  2.375613  1.541302\n",
       "3   frontdoor_test_dataset_4      205  1.076561  1.037574\n",
       "4   frontdoor_test_dataset_5      205  0.091996  0.303309\n",
       "5   frontdoor_test_dataset_6      205  0.529088  0.727384\n",
       "6   frontdoor_test_dataset_7      205  0.894842  0.945961\n",
       "7   frontdoor_test_dataset_8      205  0.897036  0.947120\n",
       "8   frontdoor_test_dataset_9      205  1.314030  1.146311"
      ]
     },
     "metadata": {},
     "output_type": "display_data"
    },
    {
     "name": "stdout",
     "output_type": "stream",
     "text": [
      "\n",
      "=== Overall ===\n",
      "Avg PEHE: 0.8466 ± 0.3429\n",
      "Best PEHE: 0.3033  (frontdoor_test_dataset_5)\n",
      "Worst PEHE: 1.5413 (frontdoor_test_dataset_3)\n",
      "\n",
      "Saved summary to: test_results/summary.csv\n"
     ]
    }
   ],
   "source": [
    "# Evaluate each dataset one by one\n",
    "rows = []\n",
    "print(\"\\n=== Per-dataset Test PEHE ===\")\n",
    "for i in tqdm(range(1, num_datasets + 1), desc=\"Datasets\"):\n",
    "    csv_path = os.path.join(data_dir, f\"{data_prefix}{i}.csv\")\n",
    "    if not os.path.exists(csv_path):\n",
    "        print(f\"[Skip] Not found: {csv_path}\")\n",
    "        continue\n",
    "\n",
    "    res = eval_one_csv(model, device, csv_path, batch_size=batch_size)\n",
    "    rows.append(res)\n",
    "    # Directly print the result for this CSV\n",
    "    print(f\"{res['dataset']}: PEHE={res['pehe']:.4f}  (MSE={res['mse']:.6f}, samples={res['samples']})\")\n",
    "if not rows:\n",
    "    print(\"\\nNo datasets evaluated. Nothing to save.\")\n",
    "else:\n",
    "    # Summarize and save\n",
    "    df = pd.DataFrame(rows).sort_values('dataset')\n",
    "    summary_path = os.path.join(output_dir, 'summary.csv')\n",
    "    df.to_csv(summary_path, index=False)\n",
    "    \n",
    "    # Display the dataframe\n",
    "    display(df)\n",
    "    \n",
    "    # Print overall statistics\n",
    "    valid = df['pehe'].dropna().to_numpy()\n",
    "    if valid.size > 0:\n",
    "        print(\"\\n=== Overall ===\")\n",
    "        print(f\"Avg PEHE: {valid.mean():.4f} ± {valid.std():.4f}\")\n",
    "        print(f\"Best PEHE: {valid.min():.4f}  ({df.iloc[int(valid.argmin())]['dataset']})\")\n",
    "        print(f\"Worst PEHE: {valid.max():.4f} ({df.iloc[int(valid.argmax())]['dataset']})\")\n",
    "    print(f\"\\nSaved summary to: {summary_path}\")\n"
   ]
  }
 ],
 "metadata": {
  "kernelspec": {
   "display_name": "Python [conda env:tabpfn_env] *",
   "language": "python",
   "name": "conda-env-tabpfn_env-py"
  },
  "language_info": {
   "codemirror_mode": {
    "name": "ipython",
    "version": 3
   },
   "file_extension": ".py",
   "mimetype": "text/x-python",
   "name": "python",
   "nbconvert_exporter": "python",
   "pygments_lexer": "ipython3",
   "version": "3.9.21"
  }
 },
 "nbformat": 4,
 "nbformat_minor": 5
}
