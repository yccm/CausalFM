{
 "cells": [
  {
   "cell_type": "code",
   "execution_count": 1,
   "id": "f645e15f-40ac-4ca1-b953-24a4efcb1670",
   "metadata": {},
   "outputs": [],
   "source": [
    "import os\n",
    "import numpy as np\n",
    "import pandas as pd\n",
    "import torch\n",
    "from tqdm import tqdm"
   ]
  },
  {
   "cell_type": "code",
   "execution_count": 2,
   "id": "2315e04b-1c40-4a7c-83d5-e9b610ddebd8",
   "metadata": {},
   "outputs": [],
   "source": [
    "from src.tabpfn.model.causalFM4IV import PerFeatureTransformerCATE\n",
    "from DATA_IV.causaldatasettestIV import create_test_data_loader"
   ]
  },
  {
   "cell_type": "code",
   "execution_count": 3,
   "id": "90d0d335-fe47-4589-94c9-fdc5ef4925b2",
   "metadata": {},
   "outputs": [],
   "source": [
    "@torch.no_grad()\n",
    "def eval_one_csv(model, device, csv_path, batch_size=1):\n",
    "    \"\"\"\n",
    "    Evaluate on a single dataset.\n",
    "    - Uses 80% as the training data and 20% as the test data for one dataset.\n",
    "    \"\"\"\n",
    "    name = os.path.splitext(os.path.basename(csv_path))[0]\n",
    "    loader = create_test_data_loader(csv_path, batch_size=batch_size, shuffle=False)\n",
    "\n",
    "    se_list = []\n",
    "    nsamples = 0\n",
    "\n",
    "    for batch in loader: # one batch is one CSV file (load all the samples)\n",
    "        x = batch['X'].to(device)\n",
    "        a = batch['a'].to(device)\n",
    "        y = batch['y'].to(device)\n",
    "        z = batch['z'].to(device)  \n",
    "        ite = batch['ite'].to(device)  # ground-truth ITE\n",
    "\n",
    "        # train test split \n",
    "        ratio = 0.8\n",
    "        train_text_split = int(y.shape[0] * ratio)\n",
    "\n",
    "        # Split data into train and test\n",
    "        x_train = x[:train_text_split].squeeze(1)\n",
    "        a_train = a[:train_text_split].squeeze(1)\n",
    "        y_train = y[:train_text_split].squeeze(1)\n",
    "        z_train = z[:train_text_split].squeeze(1)\n",
    "\n",
    "        x_test = x[train_text_split:].squeeze(1)\n",
    "        ite_test = ite[train_text_split:].squeeze()\n",
    "        \n",
    "        # print(f\"Train samples: {train_text_split}, Test samples: {ite_test.shape[0]}\")\n",
    "        # print(\"ite_test.shape:\", ite_test.shape)\n",
    "        \n",
    "        # Get model predictions using estimate_cate_iv method\n",
    "        out = model.estimate_cate_iv(x_train, a_train, y_train, z_train, x_test)\n",
    "        cate_test = out['cate']\n",
    "\n",
    "        # Calculate error\n",
    "        se = (cate_test - ite_test) ** 2\n",
    "        se_list.append(se.cpu().numpy())\n",
    "        nsamples += cate_test.numel()\n",
    "\n",
    "    if nsamples == 0:\n",
    "        return {'dataset': name, 'samples': 0, 'mse': np.nan, 'pehe': np.nan}\n",
    "\n",
    "    se_all = np.concatenate(se_list)\n",
    "    mse = float(np.mean(se_all))\n",
    "    pehe = float(np.sqrt(mse))\n",
    "    return {'dataset': name, 'samples': nsamples, 'mse': mse, 'pehe': pehe}\n"
   ]
  },
  {
   "cell_type": "code",
   "execution_count": 4,
   "id": "8fc0efed-d31b-400b-ba8f-570ece6cdfc4",
   "metadata": {},
   "outputs": [],
   "source": [
    "data_dir = \"DATA_IV/iv_binary_TEST\"\n",
    "data_prefix = \"iv_binary_test_dataset_\"\n",
    "num_datasets = 10\n",
    "model_path = 'checkpoints_IV_binary/best_model.pth'\n",
    "batch_size = 1\n",
    "gpu = 0\n",
    "output_dir = 'test_results'\n",
    "\n",
    "# Create output directory\n",
    "os.makedirs(output_dir, exist_ok=True)"
   ]
  },
  {
   "cell_type": "code",
   "execution_count": 5,
   "id": "4251d495-63b0-4cff-9cf5-a0f4a5c44d35",
   "metadata": {},
   "outputs": [
    {
     "name": "stdout",
     "output_type": "stream",
     "text": [
      "Model loaded successfully!\n"
     ]
    }
   ],
   "source": [
    "# Device\n",
    "device = torch.device(f'cuda:{gpu}' if torch.cuda.is_available() and gpu >= 0 else 'cpu')\n",
    "# print(f\"Using device: {device}\")\n",
    "\n",
    "# Model\n",
    "model = PerFeatureTransformerCATE().to(device)\n",
    "if not os.path.exists(model_path):\n",
    "    raise FileNotFoundError(f\"Model checkpoint not found: {model_path}\")\n",
    "\n",
    "ckpt = torch.load(model_path, map_location=device)\n",
    "state = ckpt['model_state_dict'] if 'model_state_dict' in ckpt else ckpt\n",
    "model.load_state_dict(state)\n",
    "model.eval()\n",
    "print(\"Model loaded successfully!\")"
   ]
  },
  {
   "cell_type": "code",
   "execution_count": 6,
   "id": "bb408100-5ba4-4cb5-bb81-2805908db409",
   "metadata": {},
   "outputs": [
    {
     "name": "stdout",
     "output_type": "stream",
     "text": [
      "\n",
      "=== Per-dataset Test PEHE ===\n"
     ]
    },
    {
     "name": "stderr",
     "output_type": "stream",
     "text": [
      "Datasets:   0%|                                          | 0/10 [00:00<?, ?it/s]"
     ]
    },
    {
     "name": "stdout",
     "output_type": "stream",
     "text": [
      "Found 1 test CSV files to load:\n",
      "  - DATA_IV/iv_binary_TEST/iv_binary_test_dataset_1.csv\n",
      "Loaded 1024 rows from DATA_IV/iv_binary_TEST/iv_binary_test_dataset_1.csv\n",
      "Total number of test sequences (CSV files): 1\n",
      "Each test sequence length: 1024\n"
     ]
    },
    {
     "name": "stderr",
     "output_type": "stream",
     "text": [
      "Datasets:  10%|███▍                              | 1/10 [00:03<00:27,  3.02s/it]"
     ]
    },
    {
     "name": "stdout",
     "output_type": "stream",
     "text": [
      "iv_binary_test_dataset_1: PEHE=0.5860  (MSE=0.343339, samples=205)\n",
      "Found 1 test CSV files to load:\n",
      "  - DATA_IV/iv_binary_TEST/iv_binary_test_dataset_2.csv\n",
      "Loaded 1024 rows from DATA_IV/iv_binary_TEST/iv_binary_test_dataset_2.csv\n",
      "Total number of test sequences (CSV files): 1\n",
      "Each test sequence length: 1024\n"
     ]
    },
    {
     "name": "stderr",
     "output_type": "stream",
     "text": [
      "Datasets:  20%|██████▊                           | 2/10 [00:05<00:21,  2.70s/it]"
     ]
    },
    {
     "name": "stdout",
     "output_type": "stream",
     "text": [
      "iv_binary_test_dataset_2: PEHE=0.2236  (MSE=0.050008, samples=205)\n",
      "Found 1 test CSV files to load:\n",
      "  - DATA_IV/iv_binary_TEST/iv_binary_test_dataset_3.csv\n",
      "Loaded 1024 rows from DATA_IV/iv_binary_TEST/iv_binary_test_dataset_3.csv\n",
      "Total number of test sequences (CSV files): 1\n",
      "Each test sequence length: 1024\n"
     ]
    },
    {
     "name": "stderr",
     "output_type": "stream",
     "text": [
      "Datasets:  30%|██████████▏                       | 3/10 [00:07<00:17,  2.56s/it]"
     ]
    },
    {
     "name": "stdout",
     "output_type": "stream",
     "text": [
      "iv_binary_test_dataset_3: PEHE=0.3743  (MSE=0.140090, samples=205)\n",
      "Found 1 test CSV files to load:\n",
      "  - DATA_IV/iv_binary_TEST/iv_binary_test_dataset_4.csv\n",
      "Loaded 1024 rows from DATA_IV/iv_binary_TEST/iv_binary_test_dataset_4.csv\n",
      "Total number of test sequences (CSV files): 1\n",
      "Each test sequence length: 1024\n"
     ]
    },
    {
     "name": "stderr",
     "output_type": "stream",
     "text": [
      "Datasets:  40%|█████████████▌                    | 4/10 [00:10<00:14,  2.47s/it]"
     ]
    },
    {
     "name": "stdout",
     "output_type": "stream",
     "text": [
      "iv_binary_test_dataset_4: PEHE=0.3103  (MSE=0.096300, samples=205)\n",
      "Found 1 test CSV files to load:\n",
      "  - DATA_IV/iv_binary_TEST/iv_binary_test_dataset_5.csv\n",
      "Loaded 1024 rows from DATA_IV/iv_binary_TEST/iv_binary_test_dataset_5.csv\n",
      "Total number of test sequences (CSV files): 1\n",
      "Each test sequence length: 1024\n"
     ]
    },
    {
     "name": "stderr",
     "output_type": "stream",
     "text": [
      "Datasets:  50%|█████████████████                 | 5/10 [00:12<00:12,  2.43s/it]"
     ]
    },
    {
     "name": "stdout",
     "output_type": "stream",
     "text": [
      "iv_binary_test_dataset_5: PEHE=0.5428  (MSE=0.294669, samples=205)\n",
      "Found 1 test CSV files to load:\n",
      "  - DATA_IV/iv_binary_TEST/iv_binary_test_dataset_6.csv\n",
      "Loaded 1024 rows from DATA_IV/iv_binary_TEST/iv_binary_test_dataset_6.csv\n",
      "Total number of test sequences (CSV files): 1\n",
      "Each test sequence length: 1024\n"
     ]
    },
    {
     "name": "stderr",
     "output_type": "stream",
     "text": [
      "Datasets:  60%|████████████████████▍             | 6/10 [00:14<00:09,  2.39s/it]"
     ]
    },
    {
     "name": "stdout",
     "output_type": "stream",
     "text": [
      "iv_binary_test_dataset_6: PEHE=0.4641  (MSE=0.215430, samples=205)\n",
      "Found 1 test CSV files to load:\n",
      "  - DATA_IV/iv_binary_TEST/iv_binary_test_dataset_7.csv\n",
      "Loaded 1024 rows from DATA_IV/iv_binary_TEST/iv_binary_test_dataset_7.csv\n",
      "Total number of test sequences (CSV files): 1\n",
      "Each test sequence length: 1024\n"
     ]
    },
    {
     "name": "stderr",
     "output_type": "stream",
     "text": [
      "Datasets:  70%|███████████████████████▊          | 7/10 [00:17<00:07,  2.36s/it]"
     ]
    },
    {
     "name": "stdout",
     "output_type": "stream",
     "text": [
      "iv_binary_test_dataset_7: PEHE=0.2504  (MSE=0.062683, samples=205)\n",
      "Found 1 test CSV files to load:\n",
      "  - DATA_IV/iv_binary_TEST/iv_binary_test_dataset_8.csv\n",
      "Loaded 1024 rows from DATA_IV/iv_binary_TEST/iv_binary_test_dataset_8.csv\n",
      "Total number of test sequences (CSV files): 1\n",
      "Each test sequence length: 1024\n"
     ]
    },
    {
     "name": "stderr",
     "output_type": "stream",
     "text": [
      "Datasets:  80%|███████████████████████████▏      | 8/10 [00:19<00:04,  2.38s/it]"
     ]
    },
    {
     "name": "stdout",
     "output_type": "stream",
     "text": [
      "iv_binary_test_dataset_8: PEHE=0.7014  (MSE=0.491923, samples=205)\n",
      "Found 1 test CSV files to load:\n",
      "  - DATA_IV/iv_binary_TEST/iv_binary_test_dataset_9.csv\n",
      "Loaded 1024 rows from DATA_IV/iv_binary_TEST/iv_binary_test_dataset_9.csv\n",
      "Total number of test sequences (CSV files): 1\n",
      "Each test sequence length: 1024\n"
     ]
    },
    {
     "name": "stderr",
     "output_type": "stream",
     "text": [
      "Datasets:  90%|██████████████████████████████▌   | 9/10 [00:21<00:02,  2.37s/it]"
     ]
    },
    {
     "name": "stdout",
     "output_type": "stream",
     "text": [
      "iv_binary_test_dataset_9: PEHE=0.5529  (MSE=0.305748, samples=205)\n",
      "Found 1 test CSV files to load:\n",
      "  - DATA_IV/iv_binary_TEST/iv_binary_test_dataset_10.csv\n",
      "Loaded 1024 rows from DATA_IV/iv_binary_TEST/iv_binary_test_dataset_10.csv\n",
      "Total number of test sequences (CSV files): 1\n",
      "Each test sequence length: 1024\n"
     ]
    },
    {
     "name": "stderr",
     "output_type": "stream",
     "text": [
      "Datasets: 100%|█████████████████████████████████| 10/10 [00:24<00:00,  2.45s/it]"
     ]
    },
    {
     "name": "stdout",
     "output_type": "stream",
     "text": [
      "iv_binary_test_dataset_10: PEHE=0.2173  (MSE=0.047218, samples=205)\n"
     ]
    },
    {
     "name": "stderr",
     "output_type": "stream",
     "text": [
      "\n"
     ]
    },
    {
     "data": {
      "text/html": [
       "<div>\n",
       "<style scoped>\n",
       "    .dataframe tbody tr th:only-of-type {\n",
       "        vertical-align: middle;\n",
       "    }\n",
       "\n",
       "    .dataframe tbody tr th {\n",
       "        vertical-align: top;\n",
       "    }\n",
       "\n",
       "    .dataframe thead th {\n",
       "        text-align: right;\n",
       "    }\n",
       "</style>\n",
       "<table border=\"1\" class=\"dataframe\">\n",
       "  <thead>\n",
       "    <tr style=\"text-align: right;\">\n",
       "      <th></th>\n",
       "      <th>dataset</th>\n",
       "      <th>samples</th>\n",
       "      <th>mse</th>\n",
       "      <th>pehe</th>\n",
       "    </tr>\n",
       "  </thead>\n",
       "  <tbody>\n",
       "    <tr>\n",
       "      <th>0</th>\n",
       "      <td>iv_binary_test_dataset_1</td>\n",
       "      <td>205</td>\n",
       "      <td>0.343339</td>\n",
       "      <td>0.585951</td>\n",
       "    </tr>\n",
       "    <tr>\n",
       "      <th>9</th>\n",
       "      <td>iv_binary_test_dataset_10</td>\n",
       "      <td>205</td>\n",
       "      <td>0.047218</td>\n",
       "      <td>0.217297</td>\n",
       "    </tr>\n",
       "    <tr>\n",
       "      <th>1</th>\n",
       "      <td>iv_binary_test_dataset_2</td>\n",
       "      <td>205</td>\n",
       "      <td>0.050008</td>\n",
       "      <td>0.223624</td>\n",
       "    </tr>\n",
       "    <tr>\n",
       "      <th>2</th>\n",
       "      <td>iv_binary_test_dataset_3</td>\n",
       "      <td>205</td>\n",
       "      <td>0.140090</td>\n",
       "      <td>0.374286</td>\n",
       "    </tr>\n",
       "    <tr>\n",
       "      <th>3</th>\n",
       "      <td>iv_binary_test_dataset_4</td>\n",
       "      <td>205</td>\n",
       "      <td>0.096300</td>\n",
       "      <td>0.310322</td>\n",
       "    </tr>\n",
       "    <tr>\n",
       "      <th>4</th>\n",
       "      <td>iv_binary_test_dataset_5</td>\n",
       "      <td>205</td>\n",
       "      <td>0.294669</td>\n",
       "      <td>0.542834</td>\n",
       "    </tr>\n",
       "    <tr>\n",
       "      <th>5</th>\n",
       "      <td>iv_binary_test_dataset_6</td>\n",
       "      <td>205</td>\n",
       "      <td>0.215430</td>\n",
       "      <td>0.464145</td>\n",
       "    </tr>\n",
       "    <tr>\n",
       "      <th>6</th>\n",
       "      <td>iv_binary_test_dataset_7</td>\n",
       "      <td>205</td>\n",
       "      <td>0.062683</td>\n",
       "      <td>0.250365</td>\n",
       "    </tr>\n",
       "    <tr>\n",
       "      <th>7</th>\n",
       "      <td>iv_binary_test_dataset_8</td>\n",
       "      <td>205</td>\n",
       "      <td>0.491923</td>\n",
       "      <td>0.701372</td>\n",
       "    </tr>\n",
       "    <tr>\n",
       "      <th>8</th>\n",
       "      <td>iv_binary_test_dataset_9</td>\n",
       "      <td>205</td>\n",
       "      <td>0.305748</td>\n",
       "      <td>0.552945</td>\n",
       "    </tr>\n",
       "  </tbody>\n",
       "</table>\n",
       "</div>"
      ],
      "text/plain": [
       "                     dataset  samples       mse      pehe\n",
       "0   iv_binary_test_dataset_1      205  0.343339  0.585951\n",
       "9  iv_binary_test_dataset_10      205  0.047218  0.217297\n",
       "1   iv_binary_test_dataset_2      205  0.050008  0.223624\n",
       "2   iv_binary_test_dataset_3      205  0.140090  0.374286\n",
       "3   iv_binary_test_dataset_4      205  0.096300  0.310322\n",
       "4   iv_binary_test_dataset_5      205  0.294669  0.542834\n",
       "5   iv_binary_test_dataset_6      205  0.215430  0.464145\n",
       "6   iv_binary_test_dataset_7      205  0.062683  0.250365\n",
       "7   iv_binary_test_dataset_8      205  0.491923  0.701372\n",
       "8   iv_binary_test_dataset_9      205  0.305748  0.552945"
      ]
     },
     "metadata": {},
     "output_type": "display_data"
    },
    {
     "name": "stdout",
     "output_type": "stream",
     "text": [
      "\n",
      "=== Overall ===\n",
      "Avg PEHE: 0.4223 ± 0.1625\n",
      "Best PEHE: 0.2173  (iv_binary_test_dataset_10)\n",
      "Worst PEHE: 0.7014 (iv_binary_test_dataset_8)\n",
      "\n",
      "Saved summary to: test_results/summary.csv\n"
     ]
    }
   ],
   "source": [
    "# Evaluate each dataset one by one\n",
    "rows = []\n",
    "print(\"\\n=== Per-dataset Test PEHE ===\")\n",
    "for i in tqdm(range(1, num_datasets + 1), desc=\"Datasets\"):\n",
    "    csv_path = os.path.join(data_dir, f\"{data_prefix}{i}.csv\")\n",
    "    if not os.path.exists(csv_path):\n",
    "        print(f\"[Skip] Not found: {csv_path}\")\n",
    "        continue\n",
    "\n",
    "    res = eval_one_csv(model, device, csv_path, batch_size=batch_size)\n",
    "    rows.append(res)\n",
    "    # Directly print the result for this CSV\n",
    "    print(f\"{res['dataset']}: PEHE={res['pehe']:.4f}  (MSE={res['mse']:.6f}, samples={res['samples']})\")\n",
    "if not rows:\n",
    "    print(\"\\nNo datasets evaluated. Nothing to save.\")\n",
    "else:\n",
    "    # Summarize and save\n",
    "    df = pd.DataFrame(rows).sort_values('dataset')\n",
    "    summary_path = os.path.join(output_dir, 'summary.csv')\n",
    "    df.to_csv(summary_path, index=False)\n",
    "    \n",
    "    # Display the dataframe\n",
    "    display(df)\n",
    "    \n",
    "    # Print overall statistics\n",
    "    valid = df['pehe'].dropna().to_numpy()\n",
    "    if valid.size > 0:\n",
    "        print(\"\\n=== Overall ===\")\n",
    "        print(f\"Avg PEHE: {valid.mean():.4f} ± {valid.std():.4f}\")\n",
    "        print(f\"Best PEHE: {valid.min():.4f}  ({df.iloc[int(valid.argmin())]['dataset']})\")\n",
    "        print(f\"Worst PEHE: {valid.max():.4f} ({df.iloc[int(valid.argmax())]['dataset']})\")\n",
    "    print(f\"\\nSaved summary to: {summary_path}\")\n"
   ]
  }
 ],
 "metadata": {
  "kernelspec": {
   "display_name": "Python [conda env:tabpfn_env] *",
   "language": "python",
   "name": "conda-env-tabpfn_env-py"
  },
  "language_info": {
   "codemirror_mode": {
    "name": "ipython",
    "version": 3
   },
   "file_extension": ".py",
   "mimetype": "text/x-python",
   "name": "python",
   "nbconvert_exporter": "python",
   "pygments_lexer": "ipython3",
   "version": "3.9.21"
  }
 },
 "nbformat": 4,
 "nbformat_minor": 5
}
